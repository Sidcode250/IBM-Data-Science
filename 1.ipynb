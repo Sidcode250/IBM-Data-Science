{
 "cells": [
  {
   "cell_type": "code",
   "execution_count": 3,
   "metadata": {},
   "outputs": [
    {
     "name": "stdout",
     "output_type": "stream",
     "text": [
      "50\n",
      "bmw black 50\n"
     ]
    }
   ],
   "source": [
    "class car:\n",
    "    max_speed = 120\n",
    "\n",
    "    def __init__(self,company,name,speed = 0):\n",
    "        self.name = name\n",
    "        self.company = company\n",
    "        self.speed = speed\n",
    "\n",
    "    def acc(self,accel):\n",
    "        if self.speed + accel <= car.max_speed:\n",
    "            self.speed = self.speed + accel\n",
    "        else:\n",
    "            speed = car.max_speed\n",
    "    def getSpeed(self):\n",
    "        print(self.speed)\n",
    "\n",
    "    def show(self):\n",
    "        print(self.company,self.name,self.speed)\n",
    "        \n",
    "car1 = car(\"bmw\",\"black\")\n",
    "car1.acc(50)\n",
    "car1.getSpeed()\n",
    "car1.show()"
   ]
  },
  {
   "cell_type": "code",
   "execution_count": 1,
   "metadata": {},
   "outputs": [
    {
     "ename": "ModuleNotFoundError",
     "evalue": "No module named 'matplotlib'",
     "output_type": "error",
     "traceback": [
      "\u001b[1;31m---------------------------------------------------------------------------\u001b[0m",
      "\u001b[1;31mModuleNotFoundError\u001b[0m                       Traceback (most recent call last)",
      "Cell \u001b[1;32mIn[1], line 1\u001b[0m\n\u001b[1;32m----> 1\u001b[0m \u001b[38;5;28;01mimport\u001b[39;00m\u001b[38;5;250m \u001b[39m\u001b[38;5;21;01mmatplotlib\u001b[39;00m\u001b[38;5;21;01m.\u001b[39;00m\u001b[38;5;21;01mpyplot\u001b[39;00m\u001b[38;5;250m \u001b[39m\u001b[38;5;28;01mas\u001b[39;00m\u001b[38;5;250m \u001b[39m\u001b[38;5;21;01mplt\u001b[39;00m\n\u001b[0;32m      2\u001b[0m get_ipython()\u001b[38;5;241m.\u001b[39mrun_line_magic(\u001b[38;5;124m'\u001b[39m\u001b[38;5;124mmatplotlib\u001b[39m\u001b[38;5;124m'\u001b[39m, \u001b[38;5;124m'\u001b[39m\u001b[38;5;124minline\u001b[39m\u001b[38;5;124m'\u001b[39m)\n\u001b[0;32m      4\u001b[0m \u001b[38;5;28;01mclass\u001b[39;00m\u001b[38;5;250m \u001b[39m\u001b[38;5;21;01mCircle\u001b[39;00m:\n",
      "\u001b[1;31mModuleNotFoundError\u001b[0m: No module named 'matplotlib'"
     ]
    }
   ],
   "source": [
    "import matplotlib.pyplot as plt\n",
    "%matplotlib inline  \n",
    "\n",
    "class Circle:\n",
    "\n",
    "    def __init__(self,radius,color):\n",
    "        self.radius = radius\n",
    "        self.color = color\n",
    "\n",
    "    def addRad(self,rad):\n",
    "        self.radius = self.radius + rad\n",
    "\n",
    "    def drawCircle(self):\n",
    "        plt.gca().add_patch(plt.Circle((0, 0), radius=self.radius, fc=self.color))\n",
    "        plt.axis('scaled')\n",
    "        plt.show()\n",
    "\n",
    "class Rectangle:\n",
    "\n",
    "    def __init__(self,height,width,color):\n",
    "        self.height = height\n",
    "        self.width = width\n",
    "        self.color = color\n",
    "\n",
    "    def drawRectangle(self):\n",
    "        plt.gca().add_patch(plt.Rectangle((0, 0), self.width, self.height ,fc=self.color))\n",
    "        plt.axis('scaled')\n",
    "        plt.show()\n",
    "\n",
    "Circle1 = Circle(10,\"Yellow\")\n",
    "rectangle1 = Rectangle(10,20,\"Red\")\n",
    "\n",
    "Circle1.drawCircle()\n",
    "rectangle1.drawRectangle()"
   ]
  },
  {
   "cell_type": "code",
   "execution_count": null,
   "metadata": {},
   "outputs": [],
   "source": []
  }
 ],
 "metadata": {
  "kernelspec": {
   "display_name": "Python 3",
   "language": "python",
   "name": "python3"
  },
  "language_info": {
   "codemirror_mode": {
    "name": "ipython",
    "version": 3
   },
   "file_extension": ".py",
   "mimetype": "text/x-python",
   "name": "python",
   "nbconvert_exporter": "python",
   "pygments_lexer": "ipython3",
   "version": "3.13.2"
  }
 },
 "nbformat": 4,
 "nbformat_minor": 2
}
